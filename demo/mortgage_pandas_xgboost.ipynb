{
 "cells": [
  {
   "cell_type": "markdown",
   "metadata": {},
   "source": [
    "# Training on mortgage data\n",
    "#### (c) Voltron Data, Field Engineering\n",
    "\n",
    "In this notebook, we will show a typical workflow to train XGBoost model."
   ]
  },
  {
   "cell_type": "markdown",
   "metadata": {},
   "source": [
    "<a id=\"libraries\"></a>\n",
    "## Load Libraries\n",
    "\n",
    "Let's load some of the libraries within the RAPIDs ecosystem and see which versions we have."
   ]
  },
  {
   "cell_type": "code",
   "execution_count": 11,
   "metadata": {
    "ExecuteTime": {
     "end_time": "2018-11-06T21:03:41.067879Z",
     "start_time": "2018-11-06T21:03:40.256654Z"
    }
   },
   "outputs": [],
   "source": [
    "import numpy as np\n",
    "import pandas as pd\n",
    "import sklearn\n",
    "import xgboost as xgb"
   ]
  },
  {
   "cell_type": "markdown",
   "metadata": {},
   "source": [
    "<a id=\"load\"></a>\n",
    "### Load Data\n",
    "\n",
    "We can load the data using `pandas.read_csv`. We've provided a helper function `load_data` that will load data from a CSV file (and will only read the first 1 billion rows if that file is unreasonably big)."
   ]
  },
  {
   "cell_type": "code",
   "execution_count": 3,
   "metadata": {},
   "outputs": [],
   "source": [
    "# helper function for loading data\n",
    "def load_data(filename, n_rows):\n",
    "    if n_rows >= 1e9:\n",
    "        df = pd.read_csv(filename)\n",
    "    else:\n",
    "        df = pd.read_csv(filename, nrows=n_rows)\n",
    "    return df.values.astype(np.float32)"
   ]
  },
  {
   "cell_type": "code",
   "execution_count": 4,
   "metadata": {},
   "outputs": [],
   "source": [
    "# settings\n",
    "classification = True  # change this to false to use regression\n",
    "n_rows = int(1e6)  # we'll use 1 millions rows\n",
    "n_categories = 2\n",
    "\n",
    "dataset = load_data('../data/mortgage.csv', n_rows)"
   ]
  },
  {
   "cell_type": "markdown",
   "metadata": {},
   "source": [
    "<a id=\"split\"></a>\n",
    "### Split Data\n",
    "\n",
    "We'll split our dataset into a 80% training dataset and a 20% validation dataset."
   ]
  },
  {
   "cell_type": "code",
   "execution_count": 5,
   "metadata": {},
   "outputs": [],
   "source": [
    "# identify shape and indices\n",
    "n_rows, n_columns = dataset.shape\n",
    "train_size = 0.80\n",
    "train_index = int(n_rows * train_size)\n",
    "\n",
    "# split X, y\n",
    "X, y = dataset[:, 1:], dataset[:, 0]\n",
    "del dataset\n",
    "\n",
    "# split train data\n",
    "X_train, y_train = X[:train_index, :], y[:train_index]\n",
    "\n",
    "# split validation data\n",
    "X_validation, y_validation = X[train_index:, :], y[train_index:]"
   ]
  },
  {
   "cell_type": "markdown",
   "metadata": {},
   "source": [
    "<a id=\"check\"></a>\n",
    "### Check Dimensions\n",
    "\n",
    "We can check the dimensions and proportions of our training and validation dataets."
   ]
  },
  {
   "cell_type": "code",
   "execution_count": 6,
   "metadata": {},
   "outputs": [
    {
     "name": "stdout",
     "output_type": "stream",
     "text": [
      "X_train:  (639999, 541) float32 y_train:  (639999,) float32\n",
      "X_validation (160000, 541) float32 y_validation:  (160000,) float32\n",
      "X_train proportion: 0.7999997499996875\n",
      "X_validation proportion: 0.2000002500003125\n"
     ]
    }
   ],
   "source": [
    "# check dimensions\n",
    "print('X_train: ', X_train.shape, X_train.dtype, 'y_train: ', y_train.shape, y_train.dtype)\n",
    "print('X_validation', X_validation.shape, X_validation.dtype, 'y_validation: ', y_validation.shape, y_validation.dtype)\n",
    "\n",
    "# check the proportions\n",
    "total = X_train.shape[0] + X_validation.shape[0]\n",
    "print('X_train proportion:', X_train.shape[0] / total)\n",
    "print('X_validation proportion:', X_validation.shape[0] / total)"
   ]
  },
  {
   "cell_type": "markdown",
   "metadata": {},
   "source": [
    "<a id=\"convert\"></a>\n",
    "## Convert NumPy data to DMatrix format\n",
    "\n",
    "With out data loaded and formatted as NumPy arrays, our next step is to convert this to a `DMatrix` object that XGBoost can work with. We can instantiate an object of the `xgboost.DMatrix` by passing in the feature matrix as the first argument followed by the label vector using the `label=` keyword argument. To learn more about XGBoost's support for data structures other than NumPy arrays, see the documentation for the Data Interface:\n",
    "\n",
    "\n",
    "https://xgboost.readthedocs.io/en/latest/python/python_intro.html#data-interface"
   ]
  },
  {
   "cell_type": "code",
   "execution_count": 7,
   "metadata": {
    "ExecuteTime": {
     "end_time": "2018-11-06T21:03:55.278322Z",
     "start_time": "2018-11-06T21:03:54.059643Z"
    }
   },
   "outputs": [
    {
     "name": "stdout",
     "output_type": "stream",
     "text": [
      "CPU times: user 3.49 s, sys: 2 s, total: 5.49 s\n",
      "Wall time: 2.09 s\n"
     ]
    }
   ],
   "source": [
    "%%time\n",
    "\n",
    "dtrain = xgb.DMatrix(X_train, label=y_train)\n",
    "dvalidation = xgb.DMatrix(X_validation, label=y_validation)"
   ]
  },
  {
   "cell_type": "markdown",
   "metadata": {},
   "source": [
    "<a id=\"parameters\"></a>\n",
    "## Set Parameters\n",
    "\n",
    "There are a number of parameters that can be set before XGBoost can be run. \n",
    "\n",
    "* General parameters relate to which booster we are using to do boosting, commonly tree or linear model\n",
    "* Booster parameters depend on which booster you have chosen\n",
    "* Learning task parameters decide on the learning scenario. For example, regression tasks may use different parameters with ranking tasks.\n",
    "\n",
    "For more information on the configurable parameters within the XGBoost module, see the documentation here:\n",
    "\n",
    "\n",
    "https://xgboost.readthedocs.io/en/latest/parameter.html"
   ]
  },
  {
   "cell_type": "code",
   "execution_count": 12,
   "metadata": {
    "ExecuteTime": {
     "end_time": "2018-11-06T21:03:57.443698Z",
     "start_time": "2018-11-06T21:03:57.438288Z"
    }
   },
   "outputs": [
    {
     "name": "stdout",
     "output_type": "stream",
     "text": [
      "{'eval_metric': 'auc', 'objective': 'binary:logistic'}\n"
     ]
    }
   ],
   "source": [
    "# instantiate params\n",
    "params = {}\n",
    "\n",
    "# learning task params\n",
    "learning_task_params = {}\n",
    "if classification:\n",
    "    learning_task_params['eval_metric'] = 'auc'\n",
    "    learning_task_params['objective'] = 'binary:logistic'\n",
    "else:\n",
    "    learning_task_params['eval_metric'] = 'rmse'\n",
    "    learning_task_params['objective'] = 'reg:squarederror'\n",
    "params.update(learning_task_params)\n",
    "print(params)"
   ]
  },
  {
   "cell_type": "markdown",
   "metadata": {},
   "source": [
    "<a id=\"train\"></a>\n",
    "## Train Model\n",
    "\n",
    "Now it's time to train our model! We can use the `xgb.train` function and pass in the parameters, training dataset, the number of boosting iterations, and the list of items to be evaluated during training. For more information on the parameters that can be passed into `xgb.train`, check out the documentation:\n",
    "\n",
    "\n",
    "https://xgboost.readthedocs.io/en/latest/python/python_api.html#xgboost.train"
   ]
  },
  {
   "cell_type": "code",
   "execution_count": 9,
   "metadata": {},
   "outputs": [],
   "source": [
    "# model training settings\n",
    "evallist = [(dvalidation, 'validation'), (dtrain, 'train')]\n",
    "num_round = 100"
   ]
  },
  {
   "cell_type": "code",
   "execution_count": 10,
   "metadata": {
    "ExecuteTime": {
     "end_time": "2018-11-06T21:04:50.201308Z",
     "start_time": "2018-11-06T21:04:00.363740Z"
    },
    "scrolled": true
   },
   "outputs": [
    {
     "name": "stdout",
     "output_type": "stream",
     "text": [
      "[12:18:20] WARNING: /var/folders/nz/j6p8yfhx1mv_0grj5xl4650h0000gp/T/abs_eek2t0c4ro/croots/recipe/xgboost-split_1659548960591/work/src/learner.cc:576: \n",
      "Parameters: { \"silent\" } might not be used.\n",
      "\n",
      "  This could be a false alarm, with some parameters getting used by language bindings but\n",
      "  then being mistakenly passed down to XGBoost core, or some parameter actually being used\n",
      "  but getting flagged wrongly here. Please open an issue if you find any such cases.\n",
      "\n",
      "\n",
      "[0]\tvalidation-auc:0.53224\ttrain-auc:0.53945\n",
      "[1]\tvalidation-auc:0.53329\ttrain-auc:0.54234\n",
      "[2]\tvalidation-auc:0.53372\ttrain-auc:0.54559\n",
      "[3]\tvalidation-auc:0.53421\ttrain-auc:0.54707\n",
      "[4]\tvalidation-auc:0.53424\ttrain-auc:0.54801\n",
      "[5]\tvalidation-auc:0.53431\ttrain-auc:0.54956\n",
      "[6]\tvalidation-auc:0.53430\ttrain-auc:0.55029\n",
      "[7]\tvalidation-auc:0.53415\ttrain-auc:0.55161\n",
      "[8]\tvalidation-auc:0.53416\ttrain-auc:0.55203\n",
      "[9]\tvalidation-auc:0.53351\ttrain-auc:0.55418\n",
      "[10]\tvalidation-auc:0.53363\ttrain-auc:0.55535\n",
      "[11]\tvalidation-auc:0.53319\ttrain-auc:0.55646\n",
      "[12]\tvalidation-auc:0.53260\ttrain-auc:0.55752\n",
      "[13]\tvalidation-auc:0.53226\ttrain-auc:0.55822\n",
      "[14]\tvalidation-auc:0.53221\ttrain-auc:0.55845\n",
      "[15]\tvalidation-auc:0.53194\ttrain-auc:0.55941\n",
      "[16]\tvalidation-auc:0.53173\ttrain-auc:0.56002\n",
      "[17]\tvalidation-auc:0.53179\ttrain-auc:0.56010\n",
      "[18]\tvalidation-auc:0.53182\ttrain-auc:0.56093\n",
      "[19]\tvalidation-auc:0.53173\ttrain-auc:0.56108\n",
      "[20]\tvalidation-auc:0.53153\ttrain-auc:0.56137\n",
      "[21]\tvalidation-auc:0.53148\ttrain-auc:0.56174\n",
      "[22]\tvalidation-auc:0.53143\ttrain-auc:0.56203\n",
      "[23]\tvalidation-auc:0.53115\ttrain-auc:0.56313\n",
      "[24]\tvalidation-auc:0.53107\ttrain-auc:0.56332\n",
      "[25]\tvalidation-auc:0.53084\ttrain-auc:0.56359\n",
      "[26]\tvalidation-auc:0.53060\ttrain-auc:0.56390\n",
      "[27]\tvalidation-auc:0.53052\ttrain-auc:0.56428\n",
      "[28]\tvalidation-auc:0.53052\ttrain-auc:0.56436\n",
      "[29]\tvalidation-auc:0.53043\ttrain-auc:0.56464\n",
      "[30]\tvalidation-auc:0.53054\ttrain-auc:0.56491\n",
      "[31]\tvalidation-auc:0.53076\ttrain-auc:0.56598\n",
      "[32]\tvalidation-auc:0.53055\ttrain-auc:0.56729\n",
      "[33]\tvalidation-auc:0.53007\ttrain-auc:0.56809\n",
      "[34]\tvalidation-auc:0.52924\ttrain-auc:0.56873\n",
      "[35]\tvalidation-auc:0.52926\ttrain-auc:0.56890\n",
      "[36]\tvalidation-auc:0.52929\ttrain-auc:0.56975\n",
      "[37]\tvalidation-auc:0.52876\ttrain-auc:0.57004\n",
      "[38]\tvalidation-auc:0.52840\ttrain-auc:0.57056\n",
      "[39]\tvalidation-auc:0.52817\ttrain-auc:0.57085\n",
      "[40]\tvalidation-auc:0.52815\ttrain-auc:0.57143\n",
      "[41]\tvalidation-auc:0.52834\ttrain-auc:0.57169\n",
      "[42]\tvalidation-auc:0.52873\ttrain-auc:0.57223\n",
      "[43]\tvalidation-auc:0.52855\ttrain-auc:0.57266\n",
      "[44]\tvalidation-auc:0.52797\ttrain-auc:0.57278\n",
      "[45]\tvalidation-auc:0.52771\ttrain-auc:0.57293\n",
      "[46]\tvalidation-auc:0.52769\ttrain-auc:0.57329\n",
      "[47]\tvalidation-auc:0.52782\ttrain-auc:0.57368\n",
      "[48]\tvalidation-auc:0.52785\ttrain-auc:0.57385\n",
      "[49]\tvalidation-auc:0.52803\ttrain-auc:0.57421\n",
      "[50]\tvalidation-auc:0.52797\ttrain-auc:0.57422\n",
      "[51]\tvalidation-auc:0.52812\ttrain-auc:0.57434\n",
      "[52]\tvalidation-auc:0.52810\ttrain-auc:0.57436\n",
      "[53]\tvalidation-auc:0.52797\ttrain-auc:0.57444\n",
      "[54]\tvalidation-auc:0.52802\ttrain-auc:0.57463\n",
      "[55]\tvalidation-auc:0.52805\ttrain-auc:0.57487\n",
      "[56]\tvalidation-auc:0.52794\ttrain-auc:0.57500\n",
      "[57]\tvalidation-auc:0.52816\ttrain-auc:0.57514\n",
      "[58]\tvalidation-auc:0.52812\ttrain-auc:0.57520\n",
      "[59]\tvalidation-auc:0.52821\ttrain-auc:0.57526\n",
      "[60]\tvalidation-auc:0.52816\ttrain-auc:0.57535\n",
      "[61]\tvalidation-auc:0.52801\ttrain-auc:0.57539\n",
      "[62]\tvalidation-auc:0.52795\ttrain-auc:0.57540\n",
      "[63]\tvalidation-auc:0.52800\ttrain-auc:0.57549\n",
      "[64]\tvalidation-auc:0.52790\ttrain-auc:0.57554\n",
      "[65]\tvalidation-auc:0.52815\ttrain-auc:0.57575\n",
      "[66]\tvalidation-auc:0.52835\ttrain-auc:0.57599\n",
      "[67]\tvalidation-auc:0.52812\ttrain-auc:0.57615\n",
      "[68]\tvalidation-auc:0.52810\ttrain-auc:0.57630\n",
      "[69]\tvalidation-auc:0.52820\ttrain-auc:0.57665\n",
      "[70]\tvalidation-auc:0.52812\ttrain-auc:0.57687\n",
      "[71]\tvalidation-auc:0.52816\ttrain-auc:0.57692\n",
      "[72]\tvalidation-auc:0.52815\ttrain-auc:0.57699\n",
      "[73]\tvalidation-auc:0.52812\ttrain-auc:0.57704\n",
      "[74]\tvalidation-auc:0.52810\ttrain-auc:0.57715\n",
      "[75]\tvalidation-auc:0.52825\ttrain-auc:0.57736\n",
      "[76]\tvalidation-auc:0.52808\ttrain-auc:0.57737\n",
      "[77]\tvalidation-auc:0.52819\ttrain-auc:0.57758\n",
      "[78]\tvalidation-auc:0.52809\ttrain-auc:0.57762\n",
      "[79]\tvalidation-auc:0.52811\ttrain-auc:0.57769\n",
      "[80]\tvalidation-auc:0.52811\ttrain-auc:0.57771\n",
      "[81]\tvalidation-auc:0.52827\ttrain-auc:0.57781\n",
      "[82]\tvalidation-auc:0.52838\ttrain-auc:0.57796\n",
      "[83]\tvalidation-auc:0.52841\ttrain-auc:0.57803\n",
      "[84]\tvalidation-auc:0.52821\ttrain-auc:0.57813\n",
      "[85]\tvalidation-auc:0.52821\ttrain-auc:0.57827\n",
      "[86]\tvalidation-auc:0.52802\ttrain-auc:0.57833\n",
      "[87]\tvalidation-auc:0.52799\ttrain-auc:0.57837\n",
      "[88]\tvalidation-auc:0.52808\ttrain-auc:0.57845\n",
      "[89]\tvalidation-auc:0.52817\ttrain-auc:0.57851\n",
      "[90]\tvalidation-auc:0.52821\ttrain-auc:0.57856\n",
      "[91]\tvalidation-auc:0.52827\ttrain-auc:0.57869\n",
      "[92]\tvalidation-auc:0.52836\ttrain-auc:0.57874\n",
      "[93]\tvalidation-auc:0.52837\ttrain-auc:0.57877\n",
      "[94]\tvalidation-auc:0.52838\ttrain-auc:0.57877\n",
      "[95]\tvalidation-auc:0.52842\ttrain-auc:0.57890\n",
      "[96]\tvalidation-auc:0.52846\ttrain-auc:0.57901\n",
      "[97]\tvalidation-auc:0.52852\ttrain-auc:0.57909\n",
      "[98]\tvalidation-auc:0.52844\ttrain-auc:0.57911\n",
      "[99]\tvalidation-auc:0.52852\ttrain-auc:0.57920\n",
      "CPU times: user 17min 51s, sys: 6min 33s, total: 24min 25s\n",
      "Wall time: 5min 22s\n"
     ]
    }
   ],
   "source": [
    "%%time\n",
    "\n",
    "bst = xgb.train(params, dtrain, num_round, evallist)"
   ]
  },
  {
   "cell_type": "code",
   "execution_count": null,
   "metadata": {},
   "outputs": [],
   "source": []
  }
 ],
 "metadata": {
  "kernelspec": {
   "display_name": "Python 3 (ipykernel)",
   "language": "python",
   "name": "python3"
  },
  "language_info": {
   "codemirror_mode": {
    "name": "ipython",
    "version": 3
   },
   "file_extension": ".py",
   "mimetype": "text/x-python",
   "name": "python",
   "nbconvert_exporter": "python",
   "pygments_lexer": "ipython3",
   "version": "3.9.13"
  }
 },
 "nbformat": 4,
 "nbformat_minor": 4
}
